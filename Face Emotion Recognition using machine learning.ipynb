{
 "cells": [
  {
   "cell_type": "code",
   "execution_count": null,
   "metadata": {},
   "outputs": [],
   "source": [
    "from sklearn.preprocessing import LabelEncoder\n",
    "from sklearn.preprocessing import MinMaxScaler\n",
    "import numpy as np\n",
    "import mahotas\n",
    "import cv2\n",
    "import os\n",
    "import h5py\n",
    "import glob\n",
    "import matplotlib.pyplot as plt\n",
    "from sklearn.model_selection import train_test_split, cross_val_score\n",
    "from sklearn.ensemble import RandomForestClassifier"
   ]
  },
  {
   "cell_type": "code",
   "execution_count": 2,
   "metadata": {},
   "outputs": [],
   "source": [
    "# make a fix file size\n",
    "fixed_size  = tuple((500,500))\n",
    "\n",
    "#train path \n",
    "train_path = \"C:/Users/dvgna/Desktop/RFER/images/train\"\n",
    "\n",
    "# no of trees for Random Forests\n",
    "num_tree = 100\n",
    "\n",
    "# bins for histograms \n",
    "bins = 8\n",
    "\n",
    "# train_test_split size\n",
    "test_size = 0.10\n",
    "\n",
    "# seed for reproducing same result \n",
    "seed = 9"
   ]
  },
  {
   "cell_type": "code",
   "execution_count": 3,
   "metadata": {},
   "outputs": [],
   "source": [
    "def fd_hu_moments(image):\n",
    "    image = cv2.cvtColor(image, cv2.COLOR_BGR2GRAY)\n",
    "    feature = cv2.HuMoments(cv2.moments(image)).flatten()\n",
    "    return feature"
   ]
  },
  {
   "cell_type": "code",
   "execution_count": 4,
   "metadata": {},
   "outputs": [],
   "source": [
    "# feature-descriptor -2 Haralick Texture \n",
    "\n",
    "def fd_haralick(image):\n",
    "    # conver the image to grayscale\n",
    "    gray = cv2.cvtColor(image,cv2.COLOR_BGR2GRAY)\n",
    "    # Ccompute the haralick texture fetature ve tor \n",
    "    haralic = mahotas.features.haralick(gray).mean(axis=0)\n",
    "    return haralic"
   ]
  },
  {
   "cell_type": "code",
   "execution_count": null,
   "metadata": {},
   "outputs": [],
   "source": [
    "# feature-description -3 Color Histogram\n",
    "\n",
    "def fd_histogram(image, mask=None):\n",
    "    # conver the image to HSV colors-space\n",
    "    image = cv2.cvtColor(image, cv2.COLOR_BGR2HSV)\n",
    "    #COPUTE THE COLOR HISTPGRAM\n",
    "    hist  = cv2.calcHist([image],[0,1,2],None,[bins,bins,bins], [0, 256, 0, 256, 0, 256])\n",
    "    # normalize the histogram\n",
    "    cv2.normalize(hist,hist)\n",
    "    # return the histog....\n",
    "    return hist.flatten()"
   ]
  },
  {
   "cell_type": "code",
   "execution_count": 6,
   "metadata": {},
   "outputs": [
    {
     "name": "stdout",
     "output_type": "stream",
     "text": [
      "['angry', 'disgust', 'fear', 'happy', 'neutral', 'sad', 'surprise']\n"
     ]
    }
   ],
   "source": [
    "# get the training data labels \n",
    "train_labels = os.listdir(train_path)\n",
    "\n",
    "# sort the training labesl \n",
    "train_labels.sort()\n",
    "print(train_labels)\n",
    "\n",
    "# empty list to hold feature vectors and labels \n",
    "global_features = []\n",
    "labels = []\n",
    "\n",
    "i, j = 0, 0 \n",
    "k = 0\n",
    "\n",
    "# num of images per class \n",
    "images_per_class = 80"
   ]
  },
  {
   "cell_type": "code",
   "execution_count": 7,
   "metadata": {},
   "outputs": [
    {
     "name": "stdout",
     "output_type": "stream",
     "text": [
      "Wall time: 0 ns\n",
      "[STATUS] processed folder: angry\n",
      "[STATUS] processed folder: disgust\n",
      "[STATUS] processed folder: fear\n",
      "[STATUS] processed folder: happy\n",
      "[STATUS] processed folder: neutral\n",
      "[STATUS] processed folder: sad\n",
      "[STATUS] processed folder: surprise\n",
      "[STATUS] completed Global Feature Extraction...\n"
     ]
    }
   ],
   "source": [
    "# ittirate the folder to get the image label name\n",
    "\n",
    "%time\n",
    "# lop over the training data sub folder \n",
    "\n",
    "for training_name in train_labels:\n",
    "    # join the training data path and each species training folder\n",
    "    dir = os.path.join(train_path, training_name)\n",
    "\n",
    "    # get the current training label\n",
    "    current_label = training_name\n",
    "\n",
    "    k = 1\n",
    "    # loop over the images in each sub-folder\n",
    "        \n",
    "    for file in os.listdir(dir):\n",
    "\n",
    "        file = dir + \"/\" + os.fsdecode(file)\n",
    "       \n",
    "        # read the image and resize it to a fixed-size\n",
    "        image = cv2.imread(file) \n",
    "        \n",
    "        if image is not None:\n",
    "            image = cv2.resize(image,fixed_size)\n",
    "            fv_hu_moments = fd_hu_moments(image)\n",
    "            fv_haralick   = fd_haralick(image)\n",
    "            fv_histogram  = fd_histogram(image)\n",
    "        #else:\n",
    "            #print(\"image not loaded\")\n",
    "                \n",
    "        #image = cv2.imread(file)        \n",
    "        #image = cv2.resize(image,fixed_size)\n",
    "\n",
    "        # Concatenate global features\n",
    "        global_feature = np.hstack([fv_histogram, fv_haralick, fv_hu_moments])\n",
    "\n",
    "        # update the list of labels and feature vectors\n",
    "        labels.append(current_label)\n",
    "        global_features.append(global_feature)\n",
    "\n",
    "        i += 1\n",
    "        k += 1\n",
    "    print(\"[STATUS] processed folder: {}\".format(current_label))\n",
    "    j += 1\n",
    "\n",
    "print(\"[STATUS] completed Global Feature Extraction...\")\n"
   ]
  },
  {
   "cell_type": "code",
   "execution_count": 8,
   "metadata": {},
   "outputs": [
    {
     "name": "stdout",
     "output_type": "stream",
     "text": [
      "Wall time: 0 ns\n",
      "[STATUS] feature vector size (28821, 532)\n",
      "[STATUS] training Labels (28821,)\n",
      "[STATUS] training labels encoded...{}\n",
      "[STATUS] feature vector normalized...\n",
      "[STATUS] target labels: [0 0 0 ... 6 6 6]\n",
      "[STATUS] target labels shape: (28821,)\n",
      "[STATUS] end of training..\n"
     ]
    }
   ],
   "source": [
    "%time\n",
    "# get the overall feature vector size\n",
    "print(\"[STATUS] feature vector size {}\".format(np.array(global_features).shape))\n",
    "\n",
    "# get the overall training label size\n",
    "print(\"[STATUS] training Labels {}\".format(np.array(labels).shape))\n",
    "\n",
    "# encode the target labels\n",
    "targetNames = np.unique(labels)\n",
    "le = LabelEncoder()\n",
    "target = le.fit_transform(labels)\n",
    "print(\"[STATUS] training labels encoded...{}\")\n",
    "# normalize the feature vector in the range (0-1)\n",
    "scaler = MinMaxScaler(feature_range=(0, 1))\n",
    "rescaled_features = scaler.fit_transform(global_features)\n",
    "print(\"[STATUS] feature vector normalized...\")\n",
    "\n",
    "print(\"[STATUS] target labels: {}\".format(target))\n",
    "print(\"[STATUS] target labels shape: {}\".format(target.shape))\n",
    "\n",
    "# save the feature vector using HDF5\n",
    "h5f_data = h5py.File('C:/Users/dvgna/Desktop/RFER/data.h5', 'w')\n",
    "h5f_data.create_dataset('dataset_1', data=np.array(rescaled_features))\n",
    "\n",
    "h5f_label = h5py.File('C:/Users/dvgna/Desktop/RFER/labels.h5', 'w')\n",
    "h5f_label.create_dataset('dataset_1', data=np.array(target))\n",
    "\n",
    "h5f_data.close()\n",
    "h5f_label.close()\n",
    "\n",
    "print(\"[STATUS] end of training..\")\n"
   ]
  },
  {
   "cell_type": "code",
   "execution_count": 9,
   "metadata": {},
   "outputs": [],
   "source": [
    "# import the feature vector and trained labels\n",
    "\n",
    "h5f_data = h5py.File('C:/Users/dvgna/Desktop/RFER/data.h5', 'r')\n",
    "h5f_label = h5py.File('C:/Users/dvgna/Desktop/RFER/labels.h5', 'r')\n",
    "\n",
    "global_features_string = h5f_data['dataset_1']\n",
    "global_labels_string = h5f_label['dataset_1']\n",
    "\n",
    "global_features = np.array(global_features_string)\n",
    "global_labels = np.array(global_labels_string)"
   ]
  },
  {
   "cell_type": "code",
   "execution_count": 10,
   "metadata": {},
   "outputs": [],
   "source": [
    "\n",
    "# split the training and testing data\n",
    "X_train, X_test, y_train, y_test = train_test_split(np.array(global_features),\n",
    "                                                                                          np.array(global_labels),\n",
    "                                                                                          test_size=test_size,\n",
    "                                                                                          random_state=seed)"
   ]
  },
  {
   "cell_type": "code",
   "execution_count": 33,
   "metadata": {},
   "outputs": [
    {
     "data": {
      "text/plain": [
       "(2883,)"
      ]
     },
     "execution_count": 33,
     "metadata": {},
     "output_type": "execute_result"
    }
   ],
   "source": [
    "y_test.shape"
   ]
  },
  {
   "cell_type": "code",
   "execution_count": 11,
   "metadata": {
    "scrolled": true
   },
   "outputs": [
    {
     "data": {
      "text/plain": [
       "RandomForestClassifier(bootstrap=True, class_weight=None, criterion='gini',\n",
       "            max_depth=None, max_features='auto', max_leaf_nodes=None,\n",
       "            min_impurity_decrease=0.0, min_impurity_split=None,\n",
       "            min_samples_leaf=1, min_samples_split=2,\n",
       "            min_weight_fraction_leaf=0.0, n_estimators=100, n_jobs=None,\n",
       "            oob_score=False, random_state=None, verbose=0,\n",
       "            warm_start=False)"
      ]
     },
     "execution_count": 11,
     "metadata": {},
     "output_type": "execute_result"
    }
   ],
   "source": [
    "# create the model - Random Forests\n",
    "rf  = RandomForestClassifier(n_estimators=100)\n",
    "\n",
    "# fit the training data to the model\n",
    "rf.fit(X_train, y_train)\n"
   ]
  },
  {
   "cell_type": "code",
   "execution_count": 12,
   "metadata": {},
   "outputs": [],
   "source": [
    "test_predictions = rf.predict(X_test)"
   ]
  },
  {
   "cell_type": "code",
   "execution_count": 13,
   "metadata": {},
   "outputs": [
    {
     "name": "stdout",
     "output_type": "stream",
     "text": [
      "Accuracy with RandomForest: 38.917794\n"
     ]
    }
   ],
   "source": [
    "from sklearn.metrics import accuracy_score\n",
    "precision = accuracy_score(test_predictions, y_test) * 100\n",
    "print(\"Accuracy with RandomForest: {0:.6f}\".format(precision))"
   ]
  },
  {
   "cell_type": "code",
   "execution_count": 14,
   "metadata": {},
   "outputs": [],
   "source": [
    "from sklearn import svm"
   ]
  },
  {
   "cell_type": "code",
   "execution_count": 16,
   "metadata": {},
   "outputs": [
    {
     "data": {
      "text/plain": [
       "SVC(C=1.0, cache_size=200, class_weight=None, coef0=0.0,\n",
       "  decision_function_shape='ovr', degree=3, gamma=0.001, kernel='rbf',\n",
       "  max_iter=-1, probability=False, random_state=None, shrinking=True,\n",
       "  tol=0.001, verbose=False)"
      ]
     },
     "execution_count": 16,
     "metadata": {},
     "output_type": "execute_result"
    }
   ],
   "source": [
    "classifier = svm.SVC(gamma=0.001)\n",
    "classifier.fit(X_train,y_train)"
   ]
  },
  {
   "cell_type": "code",
   "execution_count": 17,
   "metadata": {},
   "outputs": [],
   "source": [
    "y_pred = classifier.predict(X_test)"
   ]
  },
  {
   "cell_type": "code",
   "execution_count": 19,
   "metadata": {},
   "outputs": [
    {
     "name": "stdout",
     "output_type": "stream",
     "text": [
      "Classification report for classifier SVC(C=1.0, cache_size=200, class_weight=None, coef0=0.0,\n",
      "  decision_function_shape='ovr', degree=3, gamma=0.001, kernel='rbf',\n",
      "  max_iter=-1, probability=False, random_state=None, shrinking=True,\n",
      "  tol=0.001, verbose=False):\n",
      "              precision    recall  f1-score   support\n",
      "\n",
      "           0       0.00      0.00      0.00       370\n",
      "           1       0.00      0.00      0.00        58\n",
      "           2       0.00      0.00      0.00       423\n",
      "           3       0.25      1.00      0.39       709\n",
      "           4       0.00      0.00      0.00       481\n",
      "           5       0.00      0.00      0.00       517\n",
      "           6       0.00      0.00      0.00       325\n",
      "\n",
      "   micro avg       0.25      0.25      0.25      2883\n",
      "   macro avg       0.04      0.14      0.06      2883\n",
      "weighted avg       0.06      0.25      0.10      2883\n",
      "\n",
      "\n"
     ]
    },
    {
     "name": "stderr",
     "output_type": "stream",
     "text": [
      "C:\\Users\\dvgna\\Anaconda3\\lib\\site-packages\\sklearn\\metrics\\classification.py:1143: UndefinedMetricWarning: Precision and F-score are ill-defined and being set to 0.0 in labels with no predicted samples.\n",
      "  'precision', 'predicted', average, warn_for)\n"
     ]
    }
   ],
   "source": [
    "from sklearn import metrics\n",
    "print(\"Classification report for classifier %s:\\n%s\\n\"\n",
    "      % (classifier, metrics.classification_report(y_test, y_pred)))"
   ]
  },
  {
   "cell_type": "code",
   "execution_count": 22,
   "metadata": {},
   "outputs": [
    {
     "name": "stdout",
     "output_type": "stream",
     "text": [
      "Accuracy with SVM: 24.592438\n"
     ]
    }
   ],
   "source": [
    "T_precision = accuracy_score(y_pred, y_test) * 100\n",
    "print(\"Accuracy with SVM: {0:.6f}\".format(T_precision))"
   ]
  },
  {
   "cell_type": "code",
   "execution_count": 24,
   "metadata": {},
   "outputs": [],
   "source": [
    "#Import knearest neighbors Classifier model\n",
    "from sklearn.neighbors import KNeighborsClassifier\n",
    "\n",
    "#Create KNN Classifier\n",
    "knn = KNeighborsClassifier(n_neighbors=5)\n",
    "\n",
    "#Train the model using the training sets\n",
    "knn.fit(X_train, y_train)\n",
    "\n",
    "#Predict the response for test dataset\n",
    "ky_pred = knn.predict(X_test)"
   ]
  },
  {
   "cell_type": "code",
   "execution_count": 25,
   "metadata": {},
   "outputs": [
    {
     "name": "stdout",
     "output_type": "stream",
     "text": [
      "Accuracy: 0.2754075615678113\n"
     ]
    }
   ],
   "source": [
    "from sklearn import metrics\n",
    "# Model Accuracy, how often is the classifier correct?\n",
    "print(\"Accuracy:\",metrics.accuracy_score(y_test, ky_pred))"
   ]
  },
  {
   "cell_type": "code",
   "execution_count": 27,
   "metadata": {},
   "outputs": [],
   "source": [
    "#Import knearest neighbors Classifier model\n",
    "from sklearn.neighbors import KNeighborsClassifier\n",
    "\n",
    "#Create KNN Classifier\n",
    "knn = KNeighborsClassifier(n_neighbors=7)\n",
    "\n",
    "#Train the model using the training sets\n",
    "knn.fit(X_train, y_train)\n",
    "\n",
    "#Predict the response for test dataset\n",
    "ky7_pred = knn.predict(X_test)"
   ]
  },
  {
   "cell_type": "code",
   "execution_count": 28,
   "metadata": {},
   "outputs": [
    {
     "name": "stdout",
     "output_type": "stream",
     "text": [
      "Accuracy: 0.274020117932709\n"
     ]
    }
   ],
   "source": [
    "from sklearn import metrics\n",
    "# Model Accuracy, how often is the classifier correct?\n",
    "print(\"Accuracy:\",metrics.accuracy_score(y_test, ky7_pred))"
   ]
  },
  {
   "cell_type": "code",
   "execution_count": null,
   "metadata": {},
   "outputs": [],
   "source": []
  }
 ],
 "metadata": {
  "kernelspec": {
   "display_name": "Python 3",
   "language": "python",
   "name": "python3"
  },
  "language_info": {
   "codemirror_mode": {
    "name": "ipython",
    "version": 3
   },
   "file_extension": ".py",
   "mimetype": "text/x-python",
   "name": "python",
   "nbconvert_exporter": "python",
   "pygments_lexer": "ipython3",
   "version": "3.7.3"
  }
 },
 "nbformat": 4,
 "nbformat_minor": 2
}
